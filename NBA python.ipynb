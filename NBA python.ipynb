{
 "cells": [
  {
   "cell_type": "code",
   "execution_count": 1,
   "id": "6737a4ab-072b-4026-ac9c-1011bd86a4b9",
   "metadata": {
    "tags": []
   },
   "outputs": [],
   "source": [
    "import pandas as pd\n",
    "import statsmodels.api as sm\n",
    "import matplotlib.pyplot as plt\n",
    "import seaborn as sns\n",
    "\n",
    "# Load data\n",
    "advanced_df = pd.read_csv('/Users/alexmerdjanian/Desktop/NBA project/nba_data/Advanced.csv')\n",
    "award_shares_df = pd.read_csv('/Users/alexmerdjanian/Desktop/NBA project/nba_data/Player Award Shares.csv')"
   ]
  },
  {
   "cell_type": "code",
   "execution_count": 2,
   "id": "ce8c21ec-2d1d-4abb-a1d1-e41469498055",
   "metadata": {
    "tags": []
   },
   "outputs": [
    {
     "name": "stdout",
     "output_type": "stream",
     "text": [
      "Index(['seas_id', 'season', 'player_id', 'player', 'birth_year', 'pos', 'age',\n",
      "       'experience', 'lg', 'tm', 'g', 'mp', 'per', 'ts_percent', 'x3p_ar',\n",
      "       'f_tr', 'orb_percent', 'drb_percent', 'trb_percent', 'ast_percent',\n",
      "       'stl_percent', 'blk_percent', 'tov_percent', 'usg_percent', 'ows',\n",
      "       'dws', 'ws', 'ws_48', 'obpm', 'dbpm', 'bpm', 'vorp'],\n",
      "      dtype='object')\n",
      "Index(['season', 'award', 'player', 'age', 'tm', 'first', 'pts_won', 'pts_max',\n",
      "       'share', 'winner', 'seas_id', 'player_id'],\n",
      "      dtype='object')\n"
     ]
    }
   ],
   "source": [
    "print(advanced_df.columns)\n",
    "print(award_shares_df.columns)"
   ]
  },
  {
   "cell_type": "code",
   "execution_count": 3,
   "id": "99558e63-9877-482c-821d-88c3b82efcf1",
   "metadata": {
    "tags": []
   },
   "outputs": [
    {
     "data": {
      "text/plain": [
       "<bound method NDFrame.head of        seas_id_x  season  player_id_x          player  birth_year  pos  age_x  \\\n",
       "0        31871.0    2025       5025.0      A.J. Green         NaN   SG   25.0   \n",
       "1        31872.0    2025       5026.0     A.J. Lawson         NaN   SG   24.0   \n",
       "2        31873.0    2025       5210.0      AJ Johnson         NaN   SG   20.0   \n",
       "3        31874.0    2025       5210.0      AJ Johnson         NaN   SG   20.0   \n",
       "4        31875.0    2025       5210.0      AJ Johnson         NaN   SG   20.0   \n",
       "...          ...     ...          ...             ...         ...  ...    ...   \n",
       "33149      200.0    1947        157.0     Walt Miller         NaN    F   31.0   \n",
       "33150      201.0    1947        158.0   Warren Fenley         NaN    F   24.0   \n",
       "33151      202.0    1947        159.0   Wilbert Kautz         NaN  G-F   31.0   \n",
       "33152      203.0    1947        160.0  Woody Grimshaw         NaN    G   27.0   \n",
       "33153      204.0    1947        161.0     Wyndol Gray         NaN  G-F   24.0   \n",
       "\n",
       "       experience   lg tm_x  ...  award  age_y  tm_y  first  pts_won  pts_max  \\\n",
       "0             3.0  NBA  MIL  ...    NaN    NaN   NaN    NaN      NaN      NaN   \n",
       "1             3.0  NBA  TOR  ...    NaN    NaN   NaN    NaN      NaN      NaN   \n",
       "2             1.0  NBA  TOT  ...    NaN    NaN   NaN    NaN      NaN      NaN   \n",
       "3             1.0  NBA  MIL  ...    NaN    NaN   NaN    NaN      NaN      NaN   \n",
       "4             1.0  NBA  WAS  ...    NaN    NaN   NaN    NaN      NaN      NaN   \n",
       "...           ...  ...  ...  ...    ...    ...   ...    ...      ...      ...   \n",
       "33149         1.0  BAA  PIT  ...    NaN    NaN   NaN    NaN      NaN      NaN   \n",
       "33150         1.0  BAA  BOS  ...    NaN    NaN   NaN    NaN      NaN      NaN   \n",
       "33151         1.0  BAA  CHS  ...    NaN    NaN   NaN    NaN      NaN      NaN   \n",
       "33152         1.0  BAA  PRO  ...    NaN    NaN   NaN    NaN      NaN      NaN   \n",
       "33153         1.0  BAA  BOS  ...    NaN    NaN   NaN    NaN      NaN      NaN   \n",
       "\n",
       "       share  winner  seas_id_y  player_id_y  \n",
       "0        NaN     NaN        NaN          NaN  \n",
       "1        NaN     NaN        NaN          NaN  \n",
       "2        NaN     NaN        NaN          NaN  \n",
       "3        NaN     NaN        NaN          NaN  \n",
       "4        NaN     NaN        NaN          NaN  \n",
       "...      ...     ...        ...          ...  \n",
       "33149    NaN     NaN        NaN          NaN  \n",
       "33150    NaN     NaN        NaN          NaN  \n",
       "33151    NaN     NaN        NaN          NaN  \n",
       "33152    NaN     NaN        NaN          NaN  \n",
       "33153    NaN     NaN        NaN          NaN  \n",
       "\n",
       "[33154 rows x 42 columns]>"
      ]
     },
     "execution_count": 3,
     "metadata": {},
     "output_type": "execute_result"
    }
   ],
   "source": [
    "# Merge on player and season\n",
    "award_shares_df = award_shares_df.rename(columns={'Player': 'player', 'Season': 'season'})\n",
    "advanced_df = advanced_df.rename(columns={'player': 'player', 'season': 'season'})\n",
    "merged_df = pd.merge(advanced_df, award_shares_df, on=['player', 'season'], how='left')\n",
    "merged_df.head"
   ]
  },
  {
   "cell_type": "code",
   "execution_count": 4,
   "id": "b6ef92f3-2abd-48c4-9353-abf1093cafd4",
   "metadata": {
    "tags": []
   },
   "outputs": [],
   "source": [
    "# Filter to MVP shares only (or any other award, if desired)\n",
    "mvp_df = merged_df[\n",
    "    (merged_df['season'] >= 2014)\n",
    "]"
   ]
  },
  {
   "cell_type": "code",
   "execution_count": 5,
   "id": "be65daab-132f-403e-affe-56d3fe67b77c",
   "metadata": {
    "tags": []
   },
   "outputs": [
    {
     "name": "stdout",
     "output_type": "stream",
     "text": [
      "winner\n",
      "False    784\n",
      "True      57\n",
      "Name: count, dtype: int64\n"
     ]
    }
   ],
   "source": [
    "winner_counts = mvp_df['winner'].value_counts()\n",
    "print(winner_counts)"
   ]
  },
  {
   "cell_type": "code",
   "execution_count": 6,
   "id": "0c57bd9f-ec3b-4d61-baa2-a3d6df0ca0ef",
   "metadata": {
    "tags": []
   },
   "outputs": [
    {
     "name": "stdout",
     "output_type": "stream",
     "text": [
      "      seas_id_x  season  player_id_x                 player  birth_year pos  \\\n",
      "1268    31672.0    2024       4352.0           Nikola Jokić         NaN   C   \n",
      "1792    30765.0    2023       4416.0            Joel Embiid         NaN   C   \n",
      "2774    30247.0    2022       4352.0           Nikola Jokić         NaN   C   \n",
      "3512    29456.0    2021       4352.0           Nikola Jokić         NaN   C   \n",
      "3926    28507.0    2020       4164.0  Giannis Antetokounmpo         NaN  PF   \n",
      "4593    27807.0    2019       4164.0  Giannis Antetokounmpo         NaN  PF   \n",
      "5374    27202.0    2018       3880.0           James Harden         NaN  SG   \n",
      "6264    26813.0    2017       3849.0      Russell Westbrook         NaN  PG   \n",
      "6897    26259.0    2016       3903.0          Stephen Curry         NaN  PG   \n",
      "7548    25661.0    2015       3903.0          Stephen Curry         NaN  PG   \n",
      "7989    24828.0    2014       3770.0           Kevin Durant         NaN  SF   \n",
      "\n",
      "      age_x  experience   lg tm_x  ...    award  age_y  tm_y  first  pts_won  \\\n",
      "1268   28.0         9.0  NBA  DEN  ...  nba mvp   28.0   DEN   79.0    926.0   \n",
      "1792   28.0         7.0  NBA  PHI  ...  nba mvp   28.0   PHI   73.0    915.0   \n",
      "2774   26.0         7.0  NBA  DEN  ...  nba mvp   26.0   DEN   65.0    875.0   \n",
      "3512   25.0         6.0  NBA  DEN  ...  nba mvp   25.0   DEN   91.0    971.0   \n",
      "3926   25.0         7.0  NBA  MIL  ...  nba mvp   25.0   MIL   85.0    962.0   \n",
      "4593   24.0         6.0  NBA  MIL  ...  nba mvp   24.0   MIL   78.0    941.0   \n",
      "5374   28.0         9.0  NBA  HOU  ...  nba mvp   28.0   HOU   86.0    965.0   \n",
      "6264   28.0         9.0  NBA  OKC  ...  nba mvp   28.0   OKC   69.0    888.0   \n",
      "6897   27.0         7.0  NBA  GSW  ...  nba mvp   27.0   GSW  131.0   1310.0   \n",
      "7548   26.0         6.0  NBA  GSW  ...  nba mvp   26.0   GSW  100.0   1198.0   \n",
      "7989   25.0         7.0  NBA  OKC  ...  nba mvp   25.0   OKC  119.0   1232.0   \n",
      "\n",
      "      pts_max  share  winner  seas_id_y  player_id_y  \n",
      "1268    990.0  0.935    True    31672.0       4352.0  \n",
      "1792   1000.0  0.915    True    30764.0       4417.0  \n",
      "2774   1000.0  0.875    True    30247.0       4352.0  \n",
      "3512   1010.0  0.961    True    29456.0       4352.0  \n",
      "3926   1010.0  0.952    True    28507.0       4164.0  \n",
      "4593   1010.0  0.932    True    27809.0       4164.0  \n",
      "5374   1010.0  0.955    True    27201.0       3880.0  \n",
      "6264   1010.0  0.879    True    26815.0       3849.0  \n",
      "6897   1310.0  1.000    True    26260.0       3903.0  \n",
      "7548   1300.0  0.922    True    25662.0       3903.0  \n",
      "7989   1250.0  0.986    True    24828.0       3770.0  \n",
      "\n",
      "[11 rows x 42 columns]\n"
     ]
    }
   ],
   "source": [
    "# Filter rows where winner and award is 'nba mvp'\n",
    "mvp_winner = mvp_df[(mvp_df['winner']) & (mvp_df['award'] == 'nba mvp')]\n",
    "print(mvp_winner)"
   ]
  },
  {
   "cell_type": "code",
   "execution_count": 7,
   "id": "a541fd63-bd2a-419b-bb20-bf43b7907a1e",
   "metadata": {
    "tags": []
   },
   "outputs": [
    {
     "name": "stderr",
     "output_type": "stream",
     "text": [
      "/var/folders/p1/pbj79r650x59h2qrchrzb2140000gn/T/ipykernel_55843/2967352102.py:2: SettingWithCopyWarning: \n",
      "A value is trying to be set on a copy of a slice from a DataFrame.\n",
      "Try using .loc[row_indexer,col_indexer] = value instead\n",
      "\n",
      "See the caveats in the documentation: https://pandas.pydata.org/pandas-docs/stable/user_guide/indexing.html#returning-a-view-versus-a-copy\n",
      "  mvp_df['mvp_winner'] = 0\n"
     ]
    },
    {
     "data": {
      "text/plain": [
       "mvp_winner\n",
       "0    8255\n",
       "1      11\n",
       "Name: count, dtype: int64"
      ]
     },
     "execution_count": 7,
     "metadata": {},
     "output_type": "execute_result"
    }
   ],
   "source": [
    "# Add 'mvp_winner' column to all rows, initially set to 0\n",
    "mvp_df['mvp_winner'] = 0\n",
    "\n",
    "# Set 'mvp_winner' to 1 for MVP winners\n",
    "mvp_df.loc[mvp_winner.index, 'mvp_winner'] = 1\n",
    "\n",
    "mvp_winner_counts = mvp_df['mvp_winner'].value_counts()\n",
    "mvp_winner_counts"
   ]
  },
  {
   "cell_type": "code",
   "execution_count": 8,
   "id": "cf1dbf63-67da-4bca-bce0-9fce232afd12",
   "metadata": {
    "tags": []
   },
   "outputs": [],
   "source": [
    "# Define features (you can adjust based on your dataset)\n",
    "features = ['bpm', 'vorp', 'ws', 'ts_percent', 'usg_percent', 'per']\n",
    "\n",
    "# Drop rows where any of the features have missing values\n",
    "mvp_df_clean = mvp_df.dropna(subset=features)\n",
    "\n",
    "# Define X (features) and y (target)\n",
    "X = mvp_df_clean[features]\n",
    "y = mvp_df_clean['mvp_winner']"
   ]
  },
  {
   "cell_type": "code",
   "execution_count": 9,
   "id": "5b748ae2-50cc-4051-8ea5-0f75fa40bd96",
   "metadata": {
    "tags": []
   },
   "outputs": [],
   "source": [
    "from sklearn.model_selection import train_test_split\n",
    "\n",
    "# Split the data into train and test sets (80% train, 20% test)\n",
    "X_train, X_test, y_train, y_test = train_test_split(X, y, test_size=0.2, random_state=42)"
   ]
  },
  {
   "cell_type": "code",
   "execution_count": 10,
   "id": "6c2c775d-e55a-407c-a508-00abf8b2abd5",
   "metadata": {
    "tags": []
   },
   "outputs": [
    {
     "data": {
      "text/html": [
       "<style>#sk-container-id-1 {\n",
       "  /* Definition of color scheme common for light and dark mode */\n",
       "  --sklearn-color-text: black;\n",
       "  --sklearn-color-line: gray;\n",
       "  /* Definition of color scheme for unfitted estimators */\n",
       "  --sklearn-color-unfitted-level-0: #fff5e6;\n",
       "  --sklearn-color-unfitted-level-1: #f6e4d2;\n",
       "  --sklearn-color-unfitted-level-2: #ffe0b3;\n",
       "  --sklearn-color-unfitted-level-3: chocolate;\n",
       "  /* Definition of color scheme for fitted estimators */\n",
       "  --sklearn-color-fitted-level-0: #f0f8ff;\n",
       "  --sklearn-color-fitted-level-1: #d4ebff;\n",
       "  --sklearn-color-fitted-level-2: #b3dbfd;\n",
       "  --sklearn-color-fitted-level-3: cornflowerblue;\n",
       "\n",
       "  /* Specific color for light theme */\n",
       "  --sklearn-color-text-on-default-background: var(--sg-text-color, var(--theme-code-foreground, var(--jp-content-font-color1, black)));\n",
       "  --sklearn-color-background: var(--sg-background-color, var(--theme-background, var(--jp-layout-color0, white)));\n",
       "  --sklearn-color-border-box: var(--sg-text-color, var(--theme-code-foreground, var(--jp-content-font-color1, black)));\n",
       "  --sklearn-color-icon: #696969;\n",
       "\n",
       "  @media (prefers-color-scheme: dark) {\n",
       "    /* Redefinition of color scheme for dark theme */\n",
       "    --sklearn-color-text-on-default-background: var(--sg-text-color, var(--theme-code-foreground, var(--jp-content-font-color1, white)));\n",
       "    --sklearn-color-background: var(--sg-background-color, var(--theme-background, var(--jp-layout-color0, #111)));\n",
       "    --sklearn-color-border-box: var(--sg-text-color, var(--theme-code-foreground, var(--jp-content-font-color1, white)));\n",
       "    --sklearn-color-icon: #878787;\n",
       "  }\n",
       "}\n",
       "\n",
       "#sk-container-id-1 {\n",
       "  color: var(--sklearn-color-text);\n",
       "}\n",
       "\n",
       "#sk-container-id-1 pre {\n",
       "  padding: 0;\n",
       "}\n",
       "\n",
       "#sk-container-id-1 input.sk-hidden--visually {\n",
       "  border: 0;\n",
       "  clip: rect(1px 1px 1px 1px);\n",
       "  clip: rect(1px, 1px, 1px, 1px);\n",
       "  height: 1px;\n",
       "  margin: -1px;\n",
       "  overflow: hidden;\n",
       "  padding: 0;\n",
       "  position: absolute;\n",
       "  width: 1px;\n",
       "}\n",
       "\n",
       "#sk-container-id-1 div.sk-dashed-wrapped {\n",
       "  border: 1px dashed var(--sklearn-color-line);\n",
       "  margin: 0 0.4em 0.5em 0.4em;\n",
       "  box-sizing: border-box;\n",
       "  padding-bottom: 0.4em;\n",
       "  background-color: var(--sklearn-color-background);\n",
       "}\n",
       "\n",
       "#sk-container-id-1 div.sk-container {\n",
       "  /* jupyter's `normalize.less` sets `[hidden] { display: none; }`\n",
       "     but bootstrap.min.css set `[hidden] { display: none !important; }`\n",
       "     so we also need the `!important` here to be able to override the\n",
       "     default hidden behavior on the sphinx rendered scikit-learn.org.\n",
       "     See: https://github.com/scikit-learn/scikit-learn/issues/21755 */\n",
       "  display: inline-block !important;\n",
       "  position: relative;\n",
       "}\n",
       "\n",
       "#sk-container-id-1 div.sk-text-repr-fallback {\n",
       "  display: none;\n",
       "}\n",
       "\n",
       "div.sk-parallel-item,\n",
       "div.sk-serial,\n",
       "div.sk-item {\n",
       "  /* draw centered vertical line to link estimators */\n",
       "  background-image: linear-gradient(var(--sklearn-color-text-on-default-background), var(--sklearn-color-text-on-default-background));\n",
       "  background-size: 2px 100%;\n",
       "  background-repeat: no-repeat;\n",
       "  background-position: center center;\n",
       "}\n",
       "\n",
       "/* Parallel-specific style estimator block */\n",
       "\n",
       "#sk-container-id-1 div.sk-parallel-item::after {\n",
       "  content: \"\";\n",
       "  width: 100%;\n",
       "  border-bottom: 2px solid var(--sklearn-color-text-on-default-background);\n",
       "  flex-grow: 1;\n",
       "}\n",
       "\n",
       "#sk-container-id-1 div.sk-parallel {\n",
       "  display: flex;\n",
       "  align-items: stretch;\n",
       "  justify-content: center;\n",
       "  background-color: var(--sklearn-color-background);\n",
       "  position: relative;\n",
       "}\n",
       "\n",
       "#sk-container-id-1 div.sk-parallel-item {\n",
       "  display: flex;\n",
       "  flex-direction: column;\n",
       "}\n",
       "\n",
       "#sk-container-id-1 div.sk-parallel-item:first-child::after {\n",
       "  align-self: flex-end;\n",
       "  width: 50%;\n",
       "}\n",
       "\n",
       "#sk-container-id-1 div.sk-parallel-item:last-child::after {\n",
       "  align-self: flex-start;\n",
       "  width: 50%;\n",
       "}\n",
       "\n",
       "#sk-container-id-1 div.sk-parallel-item:only-child::after {\n",
       "  width: 0;\n",
       "}\n",
       "\n",
       "/* Serial-specific style estimator block */\n",
       "\n",
       "#sk-container-id-1 div.sk-serial {\n",
       "  display: flex;\n",
       "  flex-direction: column;\n",
       "  align-items: center;\n",
       "  background-color: var(--sklearn-color-background);\n",
       "  padding-right: 1em;\n",
       "  padding-left: 1em;\n",
       "}\n",
       "\n",
       "\n",
       "/* Toggleable style: style used for estimator/Pipeline/ColumnTransformer box that is\n",
       "clickable and can be expanded/collapsed.\n",
       "- Pipeline and ColumnTransformer use this feature and define the default style\n",
       "- Estimators will overwrite some part of the style using the `sk-estimator` class\n",
       "*/\n",
       "\n",
       "/* Pipeline and ColumnTransformer style (default) */\n",
       "\n",
       "#sk-container-id-1 div.sk-toggleable {\n",
       "  /* Default theme specific background. It is overwritten whether we have a\n",
       "  specific estimator or a Pipeline/ColumnTransformer */\n",
       "  background-color: var(--sklearn-color-background);\n",
       "}\n",
       "\n",
       "/* Toggleable label */\n",
       "#sk-container-id-1 label.sk-toggleable__label {\n",
       "  cursor: pointer;\n",
       "  display: block;\n",
       "  width: 100%;\n",
       "  margin-bottom: 0;\n",
       "  padding: 0.5em;\n",
       "  box-sizing: border-box;\n",
       "  text-align: center;\n",
       "}\n",
       "\n",
       "#sk-container-id-1 label.sk-toggleable__label-arrow:before {\n",
       "  /* Arrow on the left of the label */\n",
       "  content: \"▸\";\n",
       "  float: left;\n",
       "  margin-right: 0.25em;\n",
       "  color: var(--sklearn-color-icon);\n",
       "}\n",
       "\n",
       "#sk-container-id-1 label.sk-toggleable__label-arrow:hover:before {\n",
       "  color: var(--sklearn-color-text);\n",
       "}\n",
       "\n",
       "/* Toggleable content - dropdown */\n",
       "\n",
       "#sk-container-id-1 div.sk-toggleable__content {\n",
       "  max-height: 0;\n",
       "  max-width: 0;\n",
       "  overflow: hidden;\n",
       "  text-align: left;\n",
       "  /* unfitted */\n",
       "  background-color: var(--sklearn-color-unfitted-level-0);\n",
       "}\n",
       "\n",
       "#sk-container-id-1 div.sk-toggleable__content.fitted {\n",
       "  /* fitted */\n",
       "  background-color: var(--sklearn-color-fitted-level-0);\n",
       "}\n",
       "\n",
       "#sk-container-id-1 div.sk-toggleable__content pre {\n",
       "  margin: 0.2em;\n",
       "  border-radius: 0.25em;\n",
       "  color: var(--sklearn-color-text);\n",
       "  /* unfitted */\n",
       "  background-color: var(--sklearn-color-unfitted-level-0);\n",
       "}\n",
       "\n",
       "#sk-container-id-1 div.sk-toggleable__content.fitted pre {\n",
       "  /* unfitted */\n",
       "  background-color: var(--sklearn-color-fitted-level-0);\n",
       "}\n",
       "\n",
       "#sk-container-id-1 input.sk-toggleable__control:checked~div.sk-toggleable__content {\n",
       "  /* Expand drop-down */\n",
       "  max-height: 200px;\n",
       "  max-width: 100%;\n",
       "  overflow: auto;\n",
       "}\n",
       "\n",
       "#sk-container-id-1 input.sk-toggleable__control:checked~label.sk-toggleable__label-arrow:before {\n",
       "  content: \"▾\";\n",
       "}\n",
       "\n",
       "/* Pipeline/ColumnTransformer-specific style */\n",
       "\n",
       "#sk-container-id-1 div.sk-label input.sk-toggleable__control:checked~label.sk-toggleable__label {\n",
       "  color: var(--sklearn-color-text);\n",
       "  background-color: var(--sklearn-color-unfitted-level-2);\n",
       "}\n",
       "\n",
       "#sk-container-id-1 div.sk-label.fitted input.sk-toggleable__control:checked~label.sk-toggleable__label {\n",
       "  background-color: var(--sklearn-color-fitted-level-2);\n",
       "}\n",
       "\n",
       "/* Estimator-specific style */\n",
       "\n",
       "/* Colorize estimator box */\n",
       "#sk-container-id-1 div.sk-estimator input.sk-toggleable__control:checked~label.sk-toggleable__label {\n",
       "  /* unfitted */\n",
       "  background-color: var(--sklearn-color-unfitted-level-2);\n",
       "}\n",
       "\n",
       "#sk-container-id-1 div.sk-estimator.fitted input.sk-toggleable__control:checked~label.sk-toggleable__label {\n",
       "  /* fitted */\n",
       "  background-color: var(--sklearn-color-fitted-level-2);\n",
       "}\n",
       "\n",
       "#sk-container-id-1 div.sk-label label.sk-toggleable__label,\n",
       "#sk-container-id-1 div.sk-label label {\n",
       "  /* The background is the default theme color */\n",
       "  color: var(--sklearn-color-text-on-default-background);\n",
       "}\n",
       "\n",
       "/* On hover, darken the color of the background */\n",
       "#sk-container-id-1 div.sk-label:hover label.sk-toggleable__label {\n",
       "  color: var(--sklearn-color-text);\n",
       "  background-color: var(--sklearn-color-unfitted-level-2);\n",
       "}\n",
       "\n",
       "/* Label box, darken color on hover, fitted */\n",
       "#sk-container-id-1 div.sk-label.fitted:hover label.sk-toggleable__label.fitted {\n",
       "  color: var(--sklearn-color-text);\n",
       "  background-color: var(--sklearn-color-fitted-level-2);\n",
       "}\n",
       "\n",
       "/* Estimator label */\n",
       "\n",
       "#sk-container-id-1 div.sk-label label {\n",
       "  font-family: monospace;\n",
       "  font-weight: bold;\n",
       "  display: inline-block;\n",
       "  line-height: 1.2em;\n",
       "}\n",
       "\n",
       "#sk-container-id-1 div.sk-label-container {\n",
       "  text-align: center;\n",
       "}\n",
       "\n",
       "/* Estimator-specific */\n",
       "#sk-container-id-1 div.sk-estimator {\n",
       "  font-family: monospace;\n",
       "  border: 1px dotted var(--sklearn-color-border-box);\n",
       "  border-radius: 0.25em;\n",
       "  box-sizing: border-box;\n",
       "  margin-bottom: 0.5em;\n",
       "  /* unfitted */\n",
       "  background-color: var(--sklearn-color-unfitted-level-0);\n",
       "}\n",
       "\n",
       "#sk-container-id-1 div.sk-estimator.fitted {\n",
       "  /* fitted */\n",
       "  background-color: var(--sklearn-color-fitted-level-0);\n",
       "}\n",
       "\n",
       "/* on hover */\n",
       "#sk-container-id-1 div.sk-estimator:hover {\n",
       "  /* unfitted */\n",
       "  background-color: var(--sklearn-color-unfitted-level-2);\n",
       "}\n",
       "\n",
       "#sk-container-id-1 div.sk-estimator.fitted:hover {\n",
       "  /* fitted */\n",
       "  background-color: var(--sklearn-color-fitted-level-2);\n",
       "}\n",
       "\n",
       "/* Specification for estimator info (e.g. \"i\" and \"?\") */\n",
       "\n",
       "/* Common style for \"i\" and \"?\" */\n",
       "\n",
       ".sk-estimator-doc-link,\n",
       "a:link.sk-estimator-doc-link,\n",
       "a:visited.sk-estimator-doc-link {\n",
       "  float: right;\n",
       "  font-size: smaller;\n",
       "  line-height: 1em;\n",
       "  font-family: monospace;\n",
       "  background-color: var(--sklearn-color-background);\n",
       "  border-radius: 1em;\n",
       "  height: 1em;\n",
       "  width: 1em;\n",
       "  text-decoration: none !important;\n",
       "  margin-left: 1ex;\n",
       "  /* unfitted */\n",
       "  border: var(--sklearn-color-unfitted-level-1) 1pt solid;\n",
       "  color: var(--sklearn-color-unfitted-level-1);\n",
       "}\n",
       "\n",
       ".sk-estimator-doc-link.fitted,\n",
       "a:link.sk-estimator-doc-link.fitted,\n",
       "a:visited.sk-estimator-doc-link.fitted {\n",
       "  /* fitted */\n",
       "  border: var(--sklearn-color-fitted-level-1) 1pt solid;\n",
       "  color: var(--sklearn-color-fitted-level-1);\n",
       "}\n",
       "\n",
       "/* On hover */\n",
       "div.sk-estimator:hover .sk-estimator-doc-link:hover,\n",
       ".sk-estimator-doc-link:hover,\n",
       "div.sk-label-container:hover .sk-estimator-doc-link:hover,\n",
       ".sk-estimator-doc-link:hover {\n",
       "  /* unfitted */\n",
       "  background-color: var(--sklearn-color-unfitted-level-3);\n",
       "  color: var(--sklearn-color-background);\n",
       "  text-decoration: none;\n",
       "}\n",
       "\n",
       "div.sk-estimator.fitted:hover .sk-estimator-doc-link.fitted:hover,\n",
       ".sk-estimator-doc-link.fitted:hover,\n",
       "div.sk-label-container:hover .sk-estimator-doc-link.fitted:hover,\n",
       ".sk-estimator-doc-link.fitted:hover {\n",
       "  /* fitted */\n",
       "  background-color: var(--sklearn-color-fitted-level-3);\n",
       "  color: var(--sklearn-color-background);\n",
       "  text-decoration: none;\n",
       "}\n",
       "\n",
       "/* Span, style for the box shown on hovering the info icon */\n",
       ".sk-estimator-doc-link span {\n",
       "  display: none;\n",
       "  z-index: 9999;\n",
       "  position: relative;\n",
       "  font-weight: normal;\n",
       "  right: .2ex;\n",
       "  padding: .5ex;\n",
       "  margin: .5ex;\n",
       "  width: min-content;\n",
       "  min-width: 20ex;\n",
       "  max-width: 50ex;\n",
       "  color: var(--sklearn-color-text);\n",
       "  box-shadow: 2pt 2pt 4pt #999;\n",
       "  /* unfitted */\n",
       "  background: var(--sklearn-color-unfitted-level-0);\n",
       "  border: .5pt solid var(--sklearn-color-unfitted-level-3);\n",
       "}\n",
       "\n",
       ".sk-estimator-doc-link.fitted span {\n",
       "  /* fitted */\n",
       "  background: var(--sklearn-color-fitted-level-0);\n",
       "  border: var(--sklearn-color-fitted-level-3);\n",
       "}\n",
       "\n",
       ".sk-estimator-doc-link:hover span {\n",
       "  display: block;\n",
       "}\n",
       "\n",
       "/* \"?\"-specific style due to the `<a>` HTML tag */\n",
       "\n",
       "#sk-container-id-1 a.estimator_doc_link {\n",
       "  float: right;\n",
       "  font-size: 1rem;\n",
       "  line-height: 1em;\n",
       "  font-family: monospace;\n",
       "  background-color: var(--sklearn-color-background);\n",
       "  border-radius: 1rem;\n",
       "  height: 1rem;\n",
       "  width: 1rem;\n",
       "  text-decoration: none;\n",
       "  /* unfitted */\n",
       "  color: var(--sklearn-color-unfitted-level-1);\n",
       "  border: var(--sklearn-color-unfitted-level-1) 1pt solid;\n",
       "}\n",
       "\n",
       "#sk-container-id-1 a.estimator_doc_link.fitted {\n",
       "  /* fitted */\n",
       "  border: var(--sklearn-color-fitted-level-1) 1pt solid;\n",
       "  color: var(--sklearn-color-fitted-level-1);\n",
       "}\n",
       "\n",
       "/* On hover */\n",
       "#sk-container-id-1 a.estimator_doc_link:hover {\n",
       "  /* unfitted */\n",
       "  background-color: var(--sklearn-color-unfitted-level-3);\n",
       "  color: var(--sklearn-color-background);\n",
       "  text-decoration: none;\n",
       "}\n",
       "\n",
       "#sk-container-id-1 a.estimator_doc_link.fitted:hover {\n",
       "  /* fitted */\n",
       "  background-color: var(--sklearn-color-fitted-level-3);\n",
       "}\n",
       "</style><div id=\"sk-container-id-1\" class=\"sk-top-container\"><div class=\"sk-text-repr-fallback\"><pre>LogisticRegression(class_weight=&#x27;balanced&#x27;)</pre><b>In a Jupyter environment, please rerun this cell to show the HTML representation or trust the notebook. <br />On GitHub, the HTML representation is unable to render, please try loading this page with nbviewer.org.</b></div><div class=\"sk-container\" hidden><div class=\"sk-item\"><div class=\"sk-estimator fitted sk-toggleable\"><input class=\"sk-toggleable__control sk-hidden--visually\" id=\"sk-estimator-id-1\" type=\"checkbox\" checked><label for=\"sk-estimator-id-1\" class=\"sk-toggleable__label fitted sk-toggleable__label-arrow fitted\">&nbsp;&nbsp;LogisticRegression<a class=\"sk-estimator-doc-link fitted\" rel=\"noreferrer\" target=\"_blank\" href=\"https://scikit-learn.org/1.5/modules/generated/sklearn.linear_model.LogisticRegression.html\">?<span>Documentation for LogisticRegression</span></a><span class=\"sk-estimator-doc-link fitted\">i<span>Fitted</span></span></label><div class=\"sk-toggleable__content fitted\"><pre>LogisticRegression(class_weight=&#x27;balanced&#x27;)</pre></div> </div></div></div></div>"
      ],
      "text/plain": [
       "LogisticRegression(class_weight='balanced')"
      ]
     },
     "execution_count": 10,
     "metadata": {},
     "output_type": "execute_result"
    }
   ],
   "source": [
    "from sklearn.linear_model import LogisticRegression\n",
    "\n",
    "# Initialize the logistic regression model with balanced class weights\n",
    "model = LogisticRegression(class_weight='balanced')\n",
    "\n",
    "# Fit the model to the training data\n",
    "model.fit(X_train, y_train)"
   ]
  },
  {
   "cell_type": "code",
   "execution_count": 11,
   "id": "b9d60083-1477-4a2d-a891-5c380f642d37",
   "metadata": {
    "tags": []
   },
   "outputs": [
    {
     "name": "stdout",
     "output_type": "stream",
     "text": [
      "              precision    recall  f1-score   support\n",
      "\n",
      "           0       1.00      1.00      1.00      1640\n",
      "           1       0.11      1.00      0.20         1\n",
      "\n",
      "    accuracy                           1.00      1641\n",
      "   macro avg       0.56      1.00      0.60      1641\n",
      "weighted avg       1.00      1.00      1.00      1641\n",
      "\n"
     ]
    }
   ],
   "source": [
    "from sklearn.metrics import classification_report\n",
    "\n",
    "# Predict on the test set\n",
    "y_pred = model.predict(X_test)\n",
    "\n",
    "# Print the classification report\n",
    "print(classification_report(y_test, y_pred))"
   ]
  },
  {
   "cell_type": "markdown",
   "id": "9d4c8349-c9c7-4154-890c-807c162dd2a2",
   "metadata": {},
   "source": [
    "Results: Class imbalance problem; model predicting the majority class perfectly but struggling with the minority class."
   ]
  },
  {
   "cell_type": "code",
   "execution_count": null,
   "id": "248a55d5-d4cd-4d70-a755-eece1e546fac",
   "metadata": {},
   "outputs": [],
   "source": []
  },
  {
   "cell_type": "markdown",
   "id": "1fbba271-d331-4b6d-8001-34266feb80d9",
   "metadata": {},
   "source": [
    "Shifting to Random Forest Classifier"
   ]
  },
  {
   "cell_type": "code",
   "execution_count": 28,
   "id": "766b082e-cf59-407e-850d-8261102b57e6",
   "metadata": {
    "tags": []
   },
   "outputs": [],
   "source": [
    "from sklearn.ensemble import RandomForestClassifier\n",
    "from sklearn.model_selection import train_test_split\n",
    "from sklearn.metrics import classification_report\n",
    "from imblearn.over_sampling import SMOTE\n",
    "from sklearn.model_selection import cross_val_score"
   ]
  },
  {
   "cell_type": "code",
   "execution_count": 30,
   "id": "7d6e8033-2f9e-454a-940b-5f38bda28700",
   "metadata": {
    "tags": []
   },
   "outputs": [],
   "source": [
    "# Use the clean mvp_df to define features (X) and target (y)\n",
    "features = ['bpm', 'vorp', 'ws', 'ts_percent', 'usg_percent', 'per']\n",
    "\n",
    "# Drop rows where any of the features have missing values\n",
    "mvp_df_clean = mvp_df.dropna(subset=features)\n",
    "\n",
    "# Define X (features) and y (target)\n",
    "X = mvp_df_clean[features]\n",
    "y = mvp_df_clean['mvp_winner']"
   ]
  },
  {
   "cell_type": "code",
   "execution_count": 32,
   "id": "e2ed09af-8be1-4295-91a4-bada1ee52721",
   "metadata": {
    "tags": []
   },
   "outputs": [],
   "source": [
    "# Apply SMOTE to balance the dataset by oversampling the minority class\n",
    "smote = SMOTE(random_state=42)\n",
    "X_resampled, y_resampled = smote.fit_resample(X, y)"
   ]
  },
  {
   "cell_type": "code",
   "execution_count": 34,
   "id": "ec37b5d9-cac0-45fa-b479-f4b576791659",
   "metadata": {
    "tags": []
   },
   "outputs": [],
   "source": [
    "# Split the resampled data into training and testing sets\n",
    "X_train, X_test, y_train, y_test = train_test_split(X_resampled, y_resampled, test_size=0.2, random_state=42)\n",
    "\n",
    "# Create a Random Forest classifier with balanced class weights\n",
    "rf_model = RandomForestClassifier(n_estimators=100, class_weight='balanced', random_state=42)\n",
    "\n",
    "# Fit the model\n",
    "rf_model.fit(X_train, y_train)\n",
    "\n",
    "# Make predictions\n",
    "y_pred = rf_model.predict(X_test)"
   ]
  },
  {
   "cell_type": "code",
   "execution_count": 36,
   "id": "ec353be9-76fa-4ce3-a56a-9e27c4ab93fa",
   "metadata": {
    "tags": []
   },
   "outputs": [
    {
     "name": "stdout",
     "output_type": "stream",
     "text": [
      "Classification Report:\n",
      "              precision    recall  f1-score   support\n",
      "\n",
      "           0       1.00      1.00      1.00      1654\n",
      "           1       1.00      1.00      1.00      1624\n",
      "\n",
      "    accuracy                           1.00      3278\n",
      "   macro avg       1.00      1.00      1.00      3278\n",
      "weighted avg       1.00      1.00      1.00      3278\n",
      "\n"
     ]
    }
   ],
   "source": [
    "# Evaluate the model\n",
    "print(\"Classification Report:\")\n",
    "print(classification_report(y_test, y_pred))\n"
   ]
  },
  {
   "cell_type": "code",
   "execution_count": 38,
   "id": "50249a39-fe49-446c-80ae-efdff75e5644",
   "metadata": {
    "tags": []
   },
   "outputs": [
    {
     "name": "stdout",
     "output_type": "stream",
     "text": [
      "\n",
      "Feature Importances:\n",
      "Feature: bpm, Importance: 0.28380037807206193\n",
      "Feature: vorp, Importance: 0.28189781770591454\n",
      "Feature: ws, Importance: 0.12182780201116675\n",
      "Feature: ts_percent, Importance: 0.0009057229503480023\n",
      "Feature: usg_percent, Importance: 0.09151407304327153\n",
      "Feature: per, Importance: 0.22005420621723742\n"
     ]
    }
   ],
   "source": [
    "# Check feature importances\n",
    "importances = rf_model.feature_importances_\n",
    "print(\"\\nFeature Importances:\")\n",
    "for feature, importance in zip(features, importances):\n",
    "    print(f\"Feature: {feature}, Importance: {importance}\")"
   ]
  },
  {
   "cell_type": "code",
   "execution_count": 44,
   "id": "1704d64d-229d-44a2-98e0-caa00bd6065e",
   "metadata": {
    "tags": []
   },
   "outputs": [
    {
     "name": "stdout",
     "output_type": "stream",
     "text": [
      "Cross-validation accuracy scores: [0.99694936 0.99847468 0.99847468 1.         0.99908453]\n",
      "Average accuracy from cross-validation: 0.9985966494526256\n"
     ]
    }
   ],
   "source": [
    "from sklearn.model_selection import cross_val_score\n",
    "\n",
    "# Perform cross-validation\n",
    "cv_scores = cross_val_score(rf_model, X_resampled, y_resampled, cv=5, scoring='accuracy')\n",
    "print(f\"Cross-validation accuracy scores: {cv_scores}\")\n",
    "print(f\"Average accuracy from cross-validation: {cv_scores.mean()}\")"
   ]
  },
  {
   "cell_type": "code",
   "execution_count": 48,
   "id": "6e4b135a-0571-42b5-a965-2aa915147519",
   "metadata": {
    "tags": []
   },
   "outputs": [
    {
     "data": {
      "image/png": "[encoded data removed]",
      "text/plain": [
       "<Figure size 600x400 with 2 Axes>"
      ]
     },
     "metadata": {},
     "output_type": "display_data"
    }
   ],
   "source": [
    "from sklearn.metrics import confusion_matrix\n",
    "import seaborn as sns\n",
    "\n",
    "# Generate confusion matrix\n",
    "y_pred = rf_model.predict(X_test)\n",
    "cm = confusion_matrix(y_test, y_pred)\n",
    "\n",
    "# Visualize confusion matrix\n",
    "plt.figure(figsize=(6, 4))\n",
    "sns.heatmap(cm, annot=True, fmt='d', cmap='Blues', xticklabels=['Non-MVP', 'MVP'], yticklabels=['Non-MVP', 'MVP'])\n",
    "plt.title('Confusion Matrix')\n",
    "plt.xlabel('Predicted')\n",
    "plt.ylabel('True')\n",
    "plt.show()"
   ]
  },
  {
   "cell_type": "code",
   "execution_count": 50,
   "id": "85dd3a2b-9a56-4b8a-96c3-01ebc0404df8",
   "metadata": {
    "tags": []
   },
   "outputs": [
    {
     "data": {
      "image/png": "[encoded data removed]",
      "text/plain": [
       "<Figure size 600x600 with 1 Axes>"
      ]
     },
     "metadata": {},
     "output_type": "display_data"
    }
   ],
   "source": [
    "from sklearn.metrics import roc_curve, auc\n",
    "\n",
    "fpr, tpr, thresholds = roc_curve(y_test, rf_model.predict_proba(X_test)[:, 1])\n",
    "roc_auc = auc(fpr, tpr)\n",
    "\n",
    "# Plot ROC curve\n",
    "plt.figure(figsize=(6, 6))\n",
    "plt.plot(fpr, tpr, color='blue', lw=2, label='ROC curve (area = %0.2f)' % roc_auc)\n",
    "plt.plot([0, 1], [0, 1], color='gray', linestyle='--')\n",
    "plt.title('Receiver Operating Characteristic (ROC) Curve')\n",
    "plt.xlabel('False Positive Rate')\n",
    "plt.ylabel('True Positive Rate')\n",
    "plt.legend(loc='lower right')\n",
    "plt.show()"
   ]
  },
  {
   "cell_type": "markdown",
   "id": "d23490b7-4387-487c-8158-c7164b60cfa6",
   "metadata": {},
   "source": [
    "Excellent accuracy (99.89%) and high precision and recall for both MVP and non-MVP players. This model demonstrates a strong ability to correctly classify MVP winners with minimal errors, suggesting it is highly reliable for predicting MVPs based on performance metrics."
   ]
  },
  {
   "cell_type": "code",
   "execution_count": null,
   "id": "06c1f35d-f435-4377-9366-b4f2b0bd3bc9",
   "metadata": {},
   "outputs": [],
   "source": []
  }
 ],
 "metadata": {
  "kernelspec": {
   "display_name": "Python-3-with-Gurobi",
   "language": "python",
   "name": "python-3-with-gurobi"
  },
  "language_info": {
   "codemirror_mode": {
    "name": "ipython",
    "version": 3
   },
   "file_extension": ".py",
   "mimetype": "text/x-python",
   "name": "python",
   "nbconvert_exporter": "python",
   "pygments_lexer": "ipython3",
   "version": "3.11.4"
  }
 },
 "nbformat": 4,
 "nbformat_minor": 5
}
